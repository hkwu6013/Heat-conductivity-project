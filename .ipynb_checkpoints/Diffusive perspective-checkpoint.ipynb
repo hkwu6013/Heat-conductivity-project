{
 "cells": [
  {
   "cell_type": "code",
   "execution_count": 2,
   "metadata": {},
   "outputs": [],
   "source": [
    "# Libararies\n",
    "\n",
    "import numpy as np\n",
    "import matplotlib.pyplot as plt\n",
    "from matplotlib.font_manager import FontProperties\n",
    "from scipy.misc import derivative\n",
    "from scipy import integrate\n"
   ]
  },
  {
   "cell_type": "code",
   "execution_count": 8,
   "metadata": {},
   "outputs": [
    {
     "name": "stdout",
     "output_type": "stream",
     "text": [
      "21.983203822271353\n",
      "69.79232091198766\n",
      "137.180717511457\n",
      "power of T ~ 1.667\n"
     ]
    }
   ],
   "source": [
    "def U(r):\n",
    "    return r**6\n",
    "\n",
    "def F2(f,T,dimension,dx):\n",
    "    \n",
    "    assert dimension == 1 or dimension == 2 or dimension == 3, \"dimension must be (1/2/3)\"\n",
    "\n",
    "    beta = 1/T    \n",
    "    \n",
    "    if (dimension == 1):\n",
    "        norm = integrate.quad(lambda x: 2*np.exp(-beta*f(x)),0,100)\n",
    "        res = integrate.quad(lambda x: 2*np.exp(-beta*f(x))*(derivative(f,x,dx)**2),0,100)\n",
    "        return res[0]/norm[0]\n",
    "    if (dimension == 2):\n",
    "        norm = integrate.quad(lambda x: 2*np.pi*x*np.exp(-beta*f(x)),0,100)\n",
    "        res = integrate.quad(lambda x: 2*np.pi*x*np.exp(-beta*f(x))*(derivative(f,x,dx)**2),0,100)\n",
    "        return res[0]/norm[0]\n",
    "    if (dimension == 3):\n",
    "        norm = integrate.quad(lambda x: 4*np.pi*x**2*np.exp(-beta*f(x)),0,100)\n",
    "        res = integrate.quad(lambda x: 4*np.pi*x**2*np.exp(-beta*f(x))*(derivative(f,x,dx)**2),0,100)\n",
    "        return res[0]/norm[0]\n",
    "\n",
    "a = F2(U,1,3,0.0001)\n",
    "b = F2(U,2,3,0.0001)\n",
    "c = F2(U,3,3,0.0001)\n",
    "print(a)\n",
    "print(b)\n",
    "print(c)\n",
    "print('power of T ~ ' + str(round(np.log2(b/a),3)))\n"
   ]
  },
  {
   "cell_type": "code",
   "execution_count": 36,
   "metadata": {},
   "outputs": [
    {
     "name": "stdout",
     "output_type": "stream",
     "text": [
      "-4.73326246169557\n"
     ]
    }
   ],
   "source": [
    "K = 1\n",
    "def w(q):\n",
    "    return K * abs(np.sin(q/2))\n",
    "\n",
    "def Thermal_Conductivity(U, T, dimension, dx):\n",
    "    L = F2(U, T, dimension, dx) # Fluctuation-Dissipation\n",
    "    \n",
    "    def C(t):\n",
    "        return F2(U, t, dimension, dx)\n",
    "    \n",
    "    def g(freq,q):\n",
    "        Om = w(q)\n",
    "        res = freq**2/((Om**2-freq**2)**2+ (L*freq)**2)**2 * 4 * Om * derivative(w,q,dx) * np.sin(q) * (C(freq)- np.heaviside(freq - T, 0)*derivative(C,T,dx))\n",
    "        return res\n",
    "\n",
    "    return 4 * integrate.dblquad(lambda q, freq: g(freq,q), 0 , 50, lambda q:0, lambda q:np.pi)[0]\n",
    "\n",
    "print(Thermal_Conductivity(U,0.4,1,0.0001))\n"
   ]
  },
  {
   "cell_type": "code",
   "execution_count": 35,
   "metadata": {
    "scrolled": true
   },
   "outputs": [
    {
     "data": {
      "text/plain": [
       "[<matplotlib.lines.Line2D at 0x1f0af5ff588>]"
      ]
     },
     "execution_count": 35,
     "metadata": {},
     "output_type": "execute_result"
    },
    {
     "data": {
      "image/png": "[encoded data removed]",
      "text/plain": [
       "<matplotlib.figure.Figure at 0x1f0af61a940>"
      ]
     },
     "metadata": {},
     "output_type": "display_data"
    }
   ],
   "source": [
    "'''\n",
    "\n",
    "Thermal conductivity for U = r^4 : \n",
    "\n",
    "T = 0.5,   0.2971\n",
    "T = 0.6,   0.8212\n",
    "T = 0.7,   0.6249\n",
    "T = 1.0,   0.1688\n",
    "T = 1.2,   0.0753\n",
    "T = 1.5,   0.0265\n",
    "T = 2.0,   0.006546\n",
    "T = 2.5,   0.002149\n",
    "T = 3.0,   0.0008528\n",
    "T = 3.5,   0.0003863\n",
    "T = 4.0,   0.0001927\n",
    "\n",
    "'''\n",
    "\n",
    "x = [0.5,0.6,0.7, 1.0,1.2,1.5,2.0,2.5,3.0,3.5,4.0]\n",
    "y = [0.2971,0.82118,0.6249, 0.1688,0.0753,0.0265,0.006546,0.002149,0.0008528,0.0003863,0.0001927]\n",
    "\n",
    "\n",
    "plt.yscale('log')\n",
    "plt.xscale('log')\n",
    "plt.plot(x,y,'o-')"
   ]
  },
  {
   "cell_type": "code",
   "execution_count": 51,
   "metadata": {},
   "outputs": [
    {
     "name": "stdout",
     "output_type": "stream",
     "text": [
      "[[1, 7], [1, 1, 6], [1, 2, 5], [2, 6]]\n"
     ]
    }
   ],
   "source": [
    "class Solution:\n",
    "    def combinationSum2(self, candidates: List[int], target: int) -> List[List[int]]:\n",
    "        \n",
    "        res = []\n",
    "        \n",
    "        def aux(ca,ta,start=0,ans=[]):\n",
    "\n",
    "            if (ta in ca) and (ans +[ta] not in res):\n",
    "                res.append(ans + [ta])\n",
    "            for i in range(start,len(ca)-1):\n",
    "                clone = ans[:]\n",
    "                ans.append(ca[i])\n",
    "                if (ca[i+1] <= ta - ca[i]):\n",
    "                        aux(ca,ta-ca[i],i+1,ans)\n",
    "\n",
    "                ans = clone\n",
    "        \n",
    "        candidates.sort()\n",
    "        aux(candidates,target)\n",
    "        \n",
    "        return res\n",
    "\n",
    "L = [10,1,2,7,6,1,5]\n",
    "#L = [1,2,5]\n",
    "t = 8\n",
    "\n",
    "print(combinationSum2(L,t))"
   ]
  },
  {
   "cell_type": "code",
   "execution_count": 94,
   "metadata": {},
   "outputs": [],
   "source": [
    "def fibonacci(): \n",
    "    a=b=1\n",
    "    yield a\n",
    "    yield b\n",
    "    while True:\n",
    "        a,b = b,a+b \n",
    "        yield b \n",
    "    \n",
    "def count(n):\n",
    "    while n > 0:\n",
    "        yield n   # 生成值: n\n",
    "        n -= 1"
   ]
  },
  {
   "cell_type": "code",
   "execution_count": 89,
   "metadata": {},
   "outputs": [
    {
     "name": "stdout",
     "output_type": "stream",
     "text": [
      "{1, 2, 3}\n"
     ]
    }
   ],
   "source": [
    "\n",
    "print(set(count(3)))"
   ]
  },
  {
   "cell_type": "code",
   "execution_count": 97,
   "metadata": {},
   "outputs": [
    {
     "name": "stdout",
     "output_type": "stream",
     "text": [
      "1\n",
      "1\n",
      "2\n",
      "3\n",
      "5\n",
      "8\n",
      "13\n",
      "21\n",
      "34\n",
      "55\n",
      "89\n",
      "inf\n"
     ]
    }
   ],
   "source": [
    "x = fibonacci()\n",
    "for i in x:\n",
    "    if i < 100:\n",
    "        print (i)\n",
    "    else:\n",
    "        break\n",
    "a = float('inf')\n",
    "print(a)"
   ]
  }
 ],
 "metadata": {
  "kernelspec": {
   "display_name": "Python 2",
   "language": "python",
   "name": "python2"
  },
  "language_info": {
   "codemirror_mode": {
    "name": "ipython",
    "version": 2
   },
   "file_extension": ".py",
   "mimetype": "text/x-python",
   "name": "python",
   "nbconvert_exporter": "python",
   "pygments_lexer": "ipython2",
   "version": "2.7.16"
  }
 },
 "nbformat": 4,
 "nbformat_minor": 2
}
