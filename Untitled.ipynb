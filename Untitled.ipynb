{
 "cells": [
  {
   "cell_type": "markdown",
   "metadata": {},
   "source": [
    "# Ball in spherical container project"
   ]
  },
  {
   "cell_type": "code",
   "execution_count": 2,
   "metadata": {},
   "outputs": [],
   "source": [
    "import numpy as np\n",
    "\n",
    "def binary_search(L,target,i,j):\n",
    "        \n",
    "    if j == (i+1) or j == i:\n",
    "        return i\n",
    "    \n",
    "    m = (i+j)//2\n",
    "\n",
    "    if target < L[m]:\n",
    "        return binary_search(L,target,i,m)\n",
    "    else:\n",
    "        return binary_search(L,target,m,j)\n",
    "\n",
    "\n",
    "class ball:\n",
    "    \n",
    "    def __init__(self,position,velocity,mass):\n",
    "        self.pos = position\n",
    "        self.vel = velocity\n",
    "        self.m = mass\n",
    "\n",
    "    def get_velocity(self):\n",
    "        return self.vel\n",
    "    \n",
    "    def get_position(self):\n",
    "        return self.pos\n",
    "    \n",
    "    def get_mass(self):\n",
    "        return self.m\n",
    "    \n",
    "    \n",
    "    def set_velocity(self,new_vel):\n",
    "        self.vel = new_vel\n",
    "\n",
    "    def set_position(self,new_pos):\n",
    "        self.vel = new_pos\n",
    "        \n",
    "    def update_position(self,time):\n",
    "        self.pos += self.vel * time\n",
    "    \n",
    "    def collision(self,R,M):\n",
    "        \n",
    "        pos = self.get_position()\n",
    "        vel = self.get_velocity()\n",
    "        m = self.get_mass()\n",
    "        \n",
    "        time = (-np.inner(pos, vel) + np.sqrt(R**2*np.inner(vel,vel)-np.inner(np.cross(pos,vel),np.cross(pos,vel))))/np.inner(vel,vel)\n",
    "        \n",
    "        impact_pos = pos + time * vel\n",
    "        impact_vel = np.inner(impact_pos,vel)/R\n",
    "        \n",
    "        dv_container = impact_vel * impact_pos/R * (2*m/(m+M))\n",
    "        new_vel = vel - 2 * impact_vel * impact_pos/R\n",
    "\n",
    "        return [time, dv_container, new_vel]\n",
    "    \n",
    "    def __str__(self):\n",
    "        return \"velocity = \" + str(self.vel) + \", position = \" + str(self.pos)\n",
    "\n",
    "\n",
    "class Container:\n",
    "\n",
    "    def __init__(self, Radius, Mass):\n",
    "        self.r = Radius\n",
    "        self.balls = []\n",
    "        self.mass = Mass\n",
    "        self.time = 0\n",
    "        self.history = []\n",
    "        \n",
    "        self.ball_history = []\n",
    "    \n",
    "    def get_balls(self):\n",
    "        return self.balls\n",
    "    \n",
    "    def get_history(self):\n",
    "        return np.array(self.history).transpose()\n",
    "    \n",
    "    def add_ball(self, Ball):\n",
    "        self.balls.append(Ball)\n",
    "    \n",
    "    def add_event(self, event):\n",
    "        self.history.append(event)\n",
    "    \n",
    "    def get_container_velocity(self):\n",
    "        M = self.mass\n",
    "        balls = self.get_balls()\n",
    "        momentum = np.array([0.,0.])\n",
    "        for b in balls:\n",
    "            momentum += b.get_mass()*b.get_velocity()\n",
    "            M += b.get_mass()\n",
    "        \n",
    "        return -momentum/M\n",
    "    \n",
    "    def next_collision(self):\n",
    "        \n",
    "        time, changes, colliding_ball = float('inf'), [], None\n",
    "\n",
    "        balls = self.get_balls()\n",
    "        for i in range(len(balls)):                              #find the first colliding ball\n",
    "            \n",
    "            Ls = balls[i].collision(self.r ,self.mass)\n",
    "            \n",
    "            if Ls[0] < time:\n",
    "                time = Ls[0]\n",
    "                changes = Ls[1:]\n",
    "                colliding_ball = i\n",
    "\n",
    "        for b in balls:                                          #update positions\n",
    "            b.update_position(time)\n",
    "\n",
    "        dv = changes[0]\n",
    "        balls[colliding_ball].set_velocity(changes[1])           #update velocities\n",
    "        for i in range(len(balls)):                                     \n",
    "            if (i == colliding_ball):\n",
    "                continue\n",
    "            else:\n",
    "                balls[i].set_velocity(balls[i].get_velocity()-dv)\n",
    "                \n",
    "        \n",
    "        self.time += time\n",
    "        self.add_event(np.array([self.time,self.get_container_velocity()]))\n",
    "        \n",
    "        \n",
    "        \n",
    "        ball_event = []\n",
    "        for ba in balls:\n",
    "            ball_event.append(ba.get_velocity())\n",
    "        self.ball_history.append([self.time,ball_event])\n",
    "        \n",
    "        \n",
    "    def auto_correlation(self,tau):\n",
    "        H = self.get_history()\n",
    "        t_ls = H[0]\n",
    "        v_ls = H[1]\n",
    "        \n",
    "        t_final = t_ls[-1]\n",
    "        t0 = t_ls[0]\n",
    "        \n",
    "        res_t = []\n",
    "        res_vv = []\n",
    "        epsilon = 0.00000001\n",
    "        '''\n",
    "        def helper_old(t_ls,v_ls,res_t,res_vv,t0):\n",
    "            \n",
    "            t1 = t0 + tau\n",
    "            if t1 >= t_final:\n",
    "                return\n",
    "            else:\n",
    "\n",
    "                idx_t0 = binary_search(t_ls, t0+epsilon, 0, len(t_ls)-1)\n",
    "                idx_t1 = binary_search(t_ls, t1+epsilon, 0, len(t_ls)-1)\n",
    "                res_t.append(t0)\n",
    "                res_vv.append(v_ls[idx_t0]*v_ls[idx_t1])\n",
    "                \n",
    "                dt0 = t_ls[idx_t0+1] - t0\n",
    "                dt1 = t_ls[idx_t1+1] - t1\n",
    "                if (dt0 < dt1):\n",
    "                    return helper(t_ls,v_ls,res_t,res_vv,t_ls[idx_t0+1])\n",
    "                else:\n",
    "                    return helper(t_ls,v_ls,res_t,res_vv,t0+dt1)\n",
    "        '''\n",
    "        def helper(t_ls,v_ls,res_t,res_vv,t0):\n",
    "            t1 = t0 + tau\n",
    "            while t1 < t_final:\n",
    "                idx_t0 = binary_search(t_ls, t0+epsilon, 0, len(t_ls)-1)\n",
    "                idx_t1 = binary_search(t_ls, t1+epsilon, 0, len(t_ls)-1)\n",
    "                res_t.append(t0)\n",
    "                res_vv.append(v_ls[idx_t0]*v_ls[idx_t1])\n",
    "                dt0 = t_ls[idx_t0+1] - t0\n",
    "                dt1 = t_ls[idx_t1+1] - t1\n",
    "                if (dt0 < dt1):\n",
    "                    t0 = t_ls[idx_t0+1]\n",
    "                    t1 = t0 + tau\n",
    "                else:\n",
    "                    t0 = t0 + dt1\n",
    "                    t1 = t0 + tau\n",
    "        helper(t_ls,v_ls,res_t,res_vv,t0)\n",
    "        \n",
    "        \n",
    "        total_time = res_t[-1] - res_t[0]\n",
    "        integral = 0\n",
    "        for i in range(len(res_t)-1):\n",
    "            integral += (res_t[i+1] - res_t[i])* res_vv[i]\n",
    "        \n",
    "\n",
    "        return integral/total_time\n",
    "\n",
    "        "
   ]
  },
  {
   "cell_type": "code",
   "execution_count": 15,
   "metadata": {},
   "outputs": [
    {
     "name": "stdout",
     "output_type": "stream",
     "text": [
      "velocity = [0, 0], position = [3, 2]\n"
     ]
    }
   ],
   "source": [
    "b = ball([3,2],[0,0],3)\n",
    "\n",
    "print(b)"
   ]
  },
  {
   "cell_type": "code",
   "execution_count": 30,
   "metadata": {
    "scrolled": false
   },
   "outputs": [
    {
     "name": "stdout",
     "output_type": "stream",
     "text": [
      "[-0.09472901  0.13499428]\n"
     ]
    }
   ],
   "source": [
    "import matplotlib.pyplot as plt\n",
    "import random\n",
    "\n",
    "initial_balls=[]\n",
    "m = 1\n",
    "for i in range(10):\n",
    "    \n",
    "    angle_pos = random.uniform(0,2*np.pi)\n",
    "    value_pos = random.random()\n",
    "    \n",
    "    angle_vel = random.uniform(0,2*np.pi)\n",
    "    value_vel = random.random()\n",
    "    \n",
    "    ba = ball(np.array([value_pos*np.cos(angle_pos),value_pos*np.sin(angle_pos)]),\\\n",
    "              np.array([value_vel*np.cos(angle_vel),value_vel*np.sin(angle_vel)])\\\n",
    "              ,m)\n",
    "    initial_balls.append(ba)\n",
    "    \n",
    "\n",
    "\n",
    "C = Container(1.,2)\n",
    "\n",
    "for ba in initial_balls:\n",
    "    C.add_ball(ba)\n",
    "\n",
    "print(C.get_container_velocity())\n",
    "\n",
    "#x = [C.balls[0].get_position()[0]]\n",
    "#y = [C.balls[0].get_position()[1]]\n",
    "#x1 = [C.balls[1].get_position()[0]]\n",
    "#y1 = [C.balls[1].get_position()[1]]\n",
    "#x2 = [C.balls[2].get_position()[0]]\n",
    "#y2 = [C.balls[2].get_position()[1]]\n",
    "#x3 = [C.balls[3].get_position()[0]]\n",
    "#y3 = [C.balls[3].get_position()[1]]\n",
    "\n",
    "for i in range(1000000):\n",
    "    C.next_collision()\n",
    "#    x.append(C.balls[0].get_position()[0])\n",
    "#    y.append(C.balls[0].get_position()[1])\n",
    "#    x1.append(C.balls[1].get_position()[0])\n",
    "#    y1.append(C.balls[1].get_position()[1])\n",
    "#    x2.append(C.balls[2].get_position()[0])\n",
    "#    y2.append(C.balls[2].get_position()[1])\n",
    "#    x3.append(C.balls[3].get_position()[0])\n",
    "#    y3.append(C.balls[3].get_position()[1])\n",
    "\n",
    "\n",
    "#circle1 = plt.Circle((0, 0), 1.015,linewidth = 3, color='black', fill = False)\n",
    "#fig, ax = plt.subplots(figsize = (8,8))\n",
    "#plt.plot(x,y,'-')\n",
    "#plt.plot(x1,y1,'-')\n",
    "#plt.plot(x2,y2,'-')\n",
    "#plt.plot(x3,y3,'o-')\n",
    "#ax.add_artist(circle1)\n",
    "#plt.xlim(-1.1,1.1)\n",
    "#plt.ylim(-1.1,1.1)\n",
    "#plt.show()\n"
   ]
  },
  {
   "cell_type": "code",
   "execution_count": 177,
   "metadata": {},
   "outputs": [
    {
     "data": {
      "text/plain": [
       "[<matplotlib.lines.Line2D at 0x1a526bed198>]"
      ]
     },
     "execution_count": 177,
     "metadata": {},
     "output_type": "execute_result"
    },
    {
     "data": {
      "image/png": "[encoded data removed]",
      "text/plain": [
       "<Figure size 432x288 with 1 Axes>"
      ]
     },
     "metadata": {
      "needs_background": "light"
     },
     "output_type": "display_data"
    }
   ],
   "source": [
    "a0 = [0.08195591519687681,0.08293208398194953,0.08486602494975314,0.08433030695868772,0.08404770830026499,0.08246723008221998,\\\n",
    "0.08286098153278659,0.08298336103687193,0.08489629033840806]\n",
    "a = [0.08634163338166558,0.08919637463489877,0.08984717118786788,0.09005498878975099,0.08957101486883401,0.08966537135232708,\\\n",
    "0.09023972426259586,.09015210335198705,0.08967922259483478,0.08977063312130873,0.0895905073229967,0.08956019926701075,\\\n",
    "0.08939380757529952,0.08915286102632575,0.08894945573620029,0.08920311016057224,0.08945335268323684,0.0895576992484064,0.08985467596147156]\n",
    "b0 = list(range (500,5000,500))\n",
    "b= list(range(5000,100000,5000))\n",
    "plt.plot(b0+b,a0+a,'o-')"
   ]
  },
  {
   "cell_type": "code",
   "execution_count": 31,
   "metadata": {},
   "outputs": [
    {
     "name": "stdout",
     "output_type": "stream",
     "text": [
      "[0.22415142681135766, 0.22629153604564756, 0.22545920057782046, 0.22497142832999673, 0.22525288289339745, 0.22574267804532097, 0.22544221306359394, 0.2258775905744166, 0.22620524345310436, 0.22347344505144076]\n"
     ]
    }
   ],
   "source": [
    "a = (np.array(C.ball_history).transpose())\n",
    "H = (C.get_history())\n",
    "time_ls = a[0]\n",
    "vel_ls = a[1]\n",
    "t_total = time_ls[-2] - time_ls[0]\n",
    "\n",
    "Eball = [0] * len(C.get_balls())\n",
    "for i in range(len(time_ls)-2):\n",
    "    dt = time_ls[i+1]-time_ls[i]\n",
    "    for k in range(len(C.get_balls())):\n",
    "        Eball[k] += dt * np.inner(vel_ls[i][k]+H[1][i],vel_ls[i][k]+H[1][i])/t_total\n",
    "\n",
    "print(Eball)"
   ]
  },
  {
   "cell_type": "code",
   "execution_count": 33,
   "metadata": {
    "scrolled": true
   },
   "outputs": [
    {
     "data": {
      "image/png": "[encoded data removed]",
      "text/plain": [
       "<Figure size 432x288 with 1 Axes>"
      ]
     },
     "metadata": {
      "needs_background": "light"
     },
     "output_type": "display_data"
    }
   ],
   "source": [
    "H = C.get_history()\n",
    "x = np.linspace(0,1.0,100,endpoint = False)\n",
    "y = [C.auto_correlation(i) for i in x]\n",
    "\n",
    "plt.plot(x,y,'o-')\n",
    "plt.show()"
   ]
  },
  {
   "cell_type": "code",
   "execution_count": null,
   "metadata": {},
   "outputs": [],
   "source": [
    "print(x)\n",
    "print(np.array(y).transpose())"
   ]
  },
  {
   "cell_type": "code",
   "execution_count": 86,
   "metadata": {},
   "outputs": [
    {
     "name": "stdout",
     "output_type": "stream",
     "text": [
      "[-0.0013699899000000001, -0.001344363799999998, -0.001319435100000002, -0.0012954259999999954, -0.0012715111999999987, -0.0012476891000000045, -0.0012238104999999985, -0.001200396200000002, -0.0011779863999999973, -0.0011558529999999984, -0.0011339137000000027, -0.0011122753, -0.0010907949999999986, -0.0010699607000000042, -0.0010495479999999974, -0.0010298551999999989, -0.001009639399999998, -0.0009895816000000043, -0.0009701686999999994, -0.0009516430999999999]\n"
     ]
    },
    {
     "data": {
      "image/png": "[encoded data removed]",
      "text/plain": [
       "<Figure size 1008x360 with 3 Axes>"
      ]
     },
     "metadata": {
      "needs_background": "light"
     },
     "output_type": "display_data"
    }
   ],
   "source": [
    "t = '''\n",
    " 0.   0.01 0.02 0.03 0.04 0.05 0.06 0.07 0.08 0.09 0.1  0.11 0.12 0.13\n",
    " 0.14 0.15 0.16 0.17 0.18 0.19 0.2  0.21 0.22 0.23 0.24 0.25 0.26 0.27\n",
    " 0.28 0.29 0.3  0.31 0.32 0.33 0.34 0.35 0.36 0.37 0.38 0.39 0.4  0.41\n",
    " 0.42 0.43 0.44 0.45 0.46 0.47 0.48 0.49 0.5  0.51 0.52 0.53 0.54 0.55\n",
    " 0.56 0.57 0.58 0.59 0.6  0.61 0.62 0.63 0.64 0.65 0.66 0.67 0.68 0.69\n",
    " 0.7  0.71 0.72 0.73 0.74 0.75 0.76 0.77 0.78 0.79 0.8  0.81 0.82 0.83\n",
    " 0.84 0.85 0.86 0.87 0.88 0.89 0.9  0.91 0.92 0.93 0.94 0.95 0.96 0.97\n",
    " 0.98 0.99'''\n",
    "t_ls = [float(i) for i in t.split()]\n",
    "\n",
    "string_vvx = '''\n",
    "   5.28694229e-02  5.14994330e-02  5.01550692e-02  4.88356341e-02\n",
    "   4.75402081e-02  4.62686969e-02  4.50210078e-02  4.37971973e-02\n",
    "   4.25968011e-02  4.14188147e-02  4.02629617e-02  3.91290480e-02\n",
    "   3.80167727e-02  3.69259777e-02  3.58560170e-02  3.48064690e-02\n",
    "   3.37766138e-02  3.27669744e-02  3.17773928e-02  3.08072241e-02\n",
    "   2.98555810e-02  2.89227418e-02  2.80083848e-02  2.71123363e-02\n",
    "   2.62333458e-02  2.53709709e-02  2.45251347e-02  2.36957075e-02\n",
    "   2.28824744e-02  2.20853679e-02  2.13038324e-02  2.05374520e-02\n",
    "   1.97858990e-02  1.90487770e-02  1.83261580e-02  1.76173327e-02\n",
    "   1.69226389e-02  1.62421721e-02  1.55750513e-02  1.49213283e-02\n",
    "   1.42807507e-02  1.36529700e-02  1.30381129e-02  1.24357766e-02\n",
    "   1.18458882e-02  1.12682120e-02  1.07015603e-02  1.01458329e-02\n",
    "   9.60166811e-03  9.06801743e-03  8.54509114e-03  8.03368220e-03\n",
    "   7.53290217e-03  7.04210964e-03  6.56115462e-03  6.09012708e-03\n",
    "   5.62882034e-03  5.17728943e-03  4.73480424e-03  4.30133097e-03\n",
    "   3.87733015e-03  3.46221526e-03  3.05588169e-03  2.65820524e-03\n",
    "   2.26861470e-03  1.88782568e-03  1.51513811e-03  1.15036279e-03\n",
    "   7.92640558e-04  4.41855656e-04  9.84555270e-05 -2.37529284e-04\n",
    "  -5.67438353e-04 -8.90501691e-04 -1.20615862e-03 -1.51486584e-03\n",
    "  -1.81803481e-03 -2.11564247e-03 -2.40694158e-03 -2.69208095e-03\n",
    "  -2.97127027e-03 -3.24402233e-03 -3.51047553e-03 -3.77141726e-03\n",
    "  -4.02707616e-03 -4.27697787e-03 -4.52169532e-03 -4.76070971e-03\n",
    "  -4.99427663e-03 -5.22305522e-03 -5.44665072e-03 -5.66566957e-03\n",
    "  -5.87949029e-03 -6.08829892e-03 -6.29226563e-03 -6.49165163e-03\n",
    "  -6.68661664e-03 -6.87649573e-03 -7.06146739e-03 -7.24163367e-03\n",
    "'''\n",
    "string_vvy = '''\n",
    "   5.27877583e-02  5.14171601e-02  5.00717006e-02  4.87514306e-02\n",
    "   4.74570095e-02  4.61866187e-02  4.49402135e-02  4.37173686e-02\n",
    "   4.25179344e-02  4.13414414e-02  4.01871545e-02  3.90546046e-02\n",
    "   3.79440013e-02  3.68547912e-02  3.57865448e-02  3.47388575e-02\n",
    "   3.37110865e-02  3.27024899e-02  3.17129706e-02  3.07420527e-02\n",
    "   2.97895790e-02  2.88551574e-02  2.79387476e-02  2.70401659e-02\n",
    "   2.61589843e-02  2.52950813e-02  2.44479988e-02  2.36172893e-02\n",
    "   2.28022067e-02  2.20033114e-02  2.12200126e-02  2.04529071e-02\n",
    "   1.97009906e-02  1.89638889e-02  1.82418556e-02  1.75343918e-02\n",
    "   1.68411442e-02  1.61622062e-02  1.54968667e-02  1.48444629e-02\n",
    "   1.42053052e-02  1.35785838e-02  1.29645864e-02  1.23632201e-02\n",
    "   1.17733815e-02  1.11957518e-02  1.06299581e-02  1.00758342e-02\n",
    "   9.53317519e-03  9.00108725e-03  8.47970337e-03  7.96886945e-03\n",
    "   7.46781299e-03  6.97641367e-03  6.49487248e-03  6.02292175e-03\n",
    "   5.56024218e-03  5.10721374e-03  4.66326447e-03  4.22889106e-03\n",
    "   3.80388605e-03  3.38783147e-03  2.98039507e-03  2.58172892e-03\n",
    "   2.19136988e-03  1.80897469e-03  1.43456815e-03  1.06743388e-03\n",
    "   7.07697534e-04  3.54567920e-04  8.40565382e-06 -3.30642695e-04\n",
    "  -6.61922925e-04 -9.85234310e-04 -1.30177786e-03 -1.61157714e-03\n",
    "  -1.91467976e-03 -2.21097590e-03 -2.50091773e-03 -2.78470997e-03\n",
    "  -3.06249606e-03 -3.33378061e-03 -3.59805614e-03 -3.85633453e-03\n",
    "  -4.10923829e-03 -4.35643412e-03 -4.59820967e-03 -4.83486149e-03\n",
    "  -5.06663953e-03 -5.29364351e-03 -5.51540336e-03 -5.73188858e-03\n",
    "  -5.94365033e-03 -6.15042552e-03 -6.35300339e-03 -6.55181641e-03\n",
    "  -6.74603920e-03 -6.93547202e-03 -7.12044449e-03 -7.30129214e-03\n",
    "'''\n",
    "\n",
    "vvx = [float(i) for i in string_vvx.split()]\n",
    "vvy = [float(i) for i in string_vvy.split()]\n",
    "\n",
    "print([vvx[i+1]-vvx[i] for i in range(20)])\n",
    "\n",
    "plt.figure(figsize = (14,5))\n",
    "\n",
    "\n",
    "plt.subplot(1,3,1)\n",
    "plt.plot(t_ls[0:100],vvx[0:100],'o-')\n",
    "\n",
    "\n",
    "plt.subplot(1,3,2)\n",
    "plt.plot(t_ls[0:100],np.array(vvx[0:100]),'o-')\n",
    "plt.yscale('log')\n",
    "plt.xscale('log')\n",
    "plt.title('log(x)-log(y)')\n",
    "\n",
    "plt.subplot(1,3,3)\n",
    "plt.plot(t_ls[0:100],vvx[0:100],'o-')\n",
    "plt.yscale('log')\n",
    "plt.title('x-log(y)')\n",
    "plt.show()\n"
   ]
  },
  {
   "cell_type": "code",
   "execution_count": 29,
   "metadata": {},
   "outputs": [
    {
     "data": {
      "image/png": "[encoded data removed]",
      "text/plain": [
       "<Figure size 432x288 with 1 Axes>"
      ]
     },
     "metadata": {
      "needs_background": "light"
     },
     "output_type": "display_data"
    }
   ],
   "source": [
    "t = [0.  , 0.04, 0.08, 0.12, 0.16, 0.2 , 0.24, 0.28, 0.32, 0.36, 0.4 , 0.44, 0.48, 0.52,\n",
    " 0.56, 0.6 , 0.64, 0.68, 0.72, 0.76, 0.8 , 0.84, 0.88, 0.92, 0.96, 1.  , 1.04, 1.08,\n",
    " 1.12, 1.16, 1.2 , 1.24, 1.28, 1.32, 1.36, 1.4 , 1.44, 1.48, 1.52, 1.56, 1.6 , 1.64,\n",
    " 1.68, 1.72, 1.76, 1.8 , 1.84, 1.88, 1.92, 1.96, 2.  , 2.04, 2.08, 2.12, 2.16, 2.2,\n",
    " 2.24, 2.28, 2.32, 2.36, 2.4 , 2.44, 2.48, 2.52, 2.56, 2.6 , 2.64, 2.68, 2.72, 2.76,\n",
    " 2.8,  2.84, 2.88, 2.92, 2.96, 3.  , 3.04, 3.08, 3.12, 3.16, 3.2 , 3.24, 3.28, 3.32,\n",
    " 3.36, 3.4 , 3.44, 3.48, 3.52, 3.56, 3.6 , 3.64, 3.68, 3.72, 3.76, 3.8 , 3.84, 3.88,\n",
    " 3.92, 3.96]\n",
    "\n",
    "string_vvx = '''\n",
    "   7.27600587e-02  5.80636347e-02  4.58929713e-02  3.58422934e-02\n",
    "   2.75323676e-02  2.06862791e-02  1.50650945e-02  1.04479540e-02\n",
    "   6.64453359e-03  3.54191648e-03  1.00759493e-03 -1.05109355e-03\n",
    "  -2.72437333e-03 -4.08594752e-03 -5.18022430e-03 -6.05914248e-03\n",
    "  -6.75811313e-03 -7.31425365e-03 -7.74542674e-03 -8.06755358e-03\n",
    "  -8.33095620e-03 -8.55280942e-03 -8.73102087e-03 -8.84657448e-03\n",
    "  -8.93472375e-03 -9.02790135e-03 -9.08428845e-03 -9.12406003e-03\n",
    "  -9.12887807e-03 -9.12053100e-03 -9.08007764e-03 -9.01640790e-03\n",
    "  -8.90078729e-03 -8.73797240e-03 -8.54175644e-03 -8.31622024e-03\n",
    "  -8.06503217e-03 -7.74615689e-03 -7.34911196e-03 -6.92773603e-03\n",
    "  -6.48004813e-03 -6.00643091e-03 -5.52695068e-03 -5.05403562e-03\n",
    "  -4.57816438e-03 -4.09228810e-03 -3.61711259e-03 -3.16302323e-03\n",
    "  -2.71032291e-03 -2.27683676e-03 -1.87387845e-03 -1.50997645e-03\n",
    "  -1.18854722e-03 -8.94797592e-04 -6.10997539e-04 -3.43156103e-04\n",
    "  -9.77477012e-05  1.03152473e-04  2.70502962e-04  3.96107722e-04\n",
    "   4.94591459e-04  5.90663516e-04  6.36070443e-04  6.76795372e-04\n",
    "   7.13602931e-04  7.69490488e-04  8.05516507e-04  8.09577504e-04\n",
    "   8.07250330e-04  7.91133199e-04  7.52215871e-04  6.88165999e-04\n",
    "   6.17856147e-04  5.75342674e-04  5.36198142e-04  4.89618053e-04\n",
    "   4.15517398e-04  3.55270062e-04  2.95864453e-04  2.31859787e-04\n",
    "   1.62592867e-04  9.11871141e-05  4.00542594e-05  2.79670976e-06\n",
    "  -2.44507512e-05 -2.31441734e-05 -1.49869985e-05 -5.76604659e-06\n",
    "  -6.78585968e-06  4.05038595e-06  2.16497083e-05  2.17345505e-05\n",
    "   3.50242141e-05  6.06374759e-05  8.07314448e-05  1.16085420e-04\n",
    "   1.32694450e-04  1.38732979e-04  1.49942971e-04  1.47220618e-04\n",
    "'''\n",
    "string_vvy = '''\n",
    "   7.28607040e-02  5.81655303e-02  4.59836156e-02  3.59036018e-02\n",
    "   2.75629334e-02  2.06758417e-02  1.50168783e-02  1.03813598e-02\n",
    "   6.56650143e-03  3.43505086e-03  8.76940717e-04 -1.20417901e-03\n",
    "  -2.89248927e-03 -4.23882184e-03 -5.31854301e-03 -6.17413927e-03\n",
    "  -6.86377071e-03 -7.43427789e-03 -7.88609950e-03 -8.24049037e-03\n",
    "  -8.53042412e-03 -8.72177475e-03 -8.84330571e-03 -8.92029072e-03\n",
    "  -8.99136677e-03 -9.04419052e-03 -9.08850454e-03 -9.11403291e-03\n",
    "  -9.10262911e-03 -9.06954922e-03 -9.00846089e-03 -8.89154734e-03\n",
    "  -8.73229767e-03 -8.52866307e-03 -8.28010353e-03 -8.02473158e-03\n",
    "  -7.74498940e-03 -7.44912355e-03 -7.13694384e-03 -6.79468360e-03\n",
    "  -6.42531400e-03 -6.01407911e-03 -5.55810959e-03 -5.09169447e-03\n",
    "  -4.62979480e-03 -4.16271486e-03 -3.70388486e-03 -3.23136999e-03\n",
    "  -2.76480078e-03 -2.31084889e-03 -1.88569417e-03 -1.51581255e-03\n",
    "  -1.20497990e-03 -9.12171705e-04 -6.29676148e-04 -3.72503460e-04\n",
    "  -1.45464350e-04  5.29656065e-05  2.34548033e-04  3.96845189e-04\n",
    "   5.39973649e-04  6.58989301e-04  7.46591834e-04  8.13493722e-04\n",
    "   8.73776997e-04  8.98095278e-04  8.95745847e-04  8.87626550e-04\n",
    "   8.65836168e-04  8.36793562e-04  8.24924224e-04  7.94259365e-04\n",
    "   7.40774443e-04  6.78481630e-04  6.09113914e-04  5.62399037e-04\n",
    "   5.23436165e-04  4.65422056e-04  4.08156010e-04  3.66543917e-04\n",
    "   3.42499882e-04  3.21527542e-04  3.15639863e-04  2.96330218e-04\n",
    "   2.22900571e-04  1.46597950e-04  5.46332780e-05 -7.61717867e-06\n",
    "  -3.65473578e-05 -5.25471772e-05 -1.03155884e-04 -1.48563068e-04\n",
    "  -1.82652328e-04 -1.90878477e-04 -1.87140323e-04 -1.49381989e-04\n",
    "  -1.06879654e-04 -8.16321274e-05 -5.80672045e-05 -4.91581430e-06\n",
    "'''\n",
    "\n",
    "vvx = [float(i) for i in string_vvx.split()]\n",
    "vvy = [float(i) for i in string_vvy.split()]\n",
    "\n",
    "plt.plot(t[:7], vvx[:7],'o-')\n",
    "plt.yscale('log')\n",
    "#plt.plot(t, vvy,'o-')"
   ]
  },
  {
   "cell_type": "code",
   "execution_count": 42,
   "metadata": {},
   "outputs": [
    {
     "ename": "KeyboardInterrupt",
     "evalue": "",
     "output_type": "error",
     "traceback": [
      "\u001b[1;31m---------------------------------------------------------------------------\u001b[0m",
      "\u001b[1;31mKeyboardInterrupt\u001b[0m                         Traceback (most recent call last)",
      "\u001b[1;32m<ipython-input-42-8f55efe6711c>\u001b[0m in \u001b[0;36m<module>\u001b[1;34m\u001b[0m\n\u001b[0;32m      1\u001b[0m \u001b[0mx1\u001b[0m \u001b[1;33m=\u001b[0m \u001b[0mnp\u001b[0m\u001b[1;33m.\u001b[0m\u001b[0mlinspace\u001b[0m\u001b[1;33m(\u001b[0m\u001b[1;36m0\u001b[0m\u001b[1;33m,\u001b[0m\u001b[1;36m3\u001b[0m\u001b[1;33m,\u001b[0m\u001b[1;36m120\u001b[0m\u001b[1;33m,\u001b[0m\u001b[0mendpoint\u001b[0m \u001b[1;33m=\u001b[0m \u001b[1;32mFalse\u001b[0m\u001b[1;33m)\u001b[0m\u001b[1;33m\u001b[0m\u001b[1;33m\u001b[0m\u001b[0m\n\u001b[1;32m----> 2\u001b[1;33m \u001b[0my1\u001b[0m \u001b[1;33m=\u001b[0m \u001b[1;33m[\u001b[0m\u001b[0mC\u001b[0m\u001b[1;33m.\u001b[0m\u001b[0mauto_correlation\u001b[0m\u001b[1;33m(\u001b[0m\u001b[0mi\u001b[0m\u001b[1;33m)\u001b[0m \u001b[1;32mfor\u001b[0m \u001b[0mi\u001b[0m \u001b[1;32min\u001b[0m \u001b[0mx1\u001b[0m\u001b[1;33m]\u001b[0m\u001b[1;33m\u001b[0m\u001b[1;33m\u001b[0m\u001b[0m\n\u001b[0m\u001b[0;32m      3\u001b[0m \u001b[1;33m\u001b[0m\u001b[0m\n\u001b[0;32m      4\u001b[0m \u001b[0mplt\u001b[0m\u001b[1;33m.\u001b[0m\u001b[0mplot\u001b[0m\u001b[1;33m(\u001b[0m\u001b[0mx1\u001b[0m\u001b[1;33m[\u001b[0m\u001b[1;33m:\u001b[0m\u001b[1;36m10\u001b[0m\u001b[1;33m]\u001b[0m\u001b[1;33m,\u001b[0m\u001b[0my1\u001b[0m\u001b[1;33m[\u001b[0m\u001b[1;33m:\u001b[0m\u001b[1;36m10\u001b[0m\u001b[1;33m]\u001b[0m\u001b[1;33m,\u001b[0m\u001b[1;34m'o-'\u001b[0m\u001b[1;33m)\u001b[0m\u001b[1;33m\u001b[0m\u001b[1;33m\u001b[0m\u001b[0m\n\u001b[0;32m      5\u001b[0m \u001b[0mplt\u001b[0m\u001b[1;33m.\u001b[0m\u001b[0mshow\u001b[0m\u001b[1;33m(\u001b[0m\u001b[1;33m)\u001b[0m\u001b[1;33m\u001b[0m\u001b[1;33m\u001b[0m\u001b[0m\n",
      "\u001b[1;32m<ipython-input-42-8f55efe6711c>\u001b[0m in \u001b[0;36m<listcomp>\u001b[1;34m(.0)\u001b[0m\n\u001b[0;32m      1\u001b[0m \u001b[0mx1\u001b[0m \u001b[1;33m=\u001b[0m \u001b[0mnp\u001b[0m\u001b[1;33m.\u001b[0m\u001b[0mlinspace\u001b[0m\u001b[1;33m(\u001b[0m\u001b[1;36m0\u001b[0m\u001b[1;33m,\u001b[0m\u001b[1;36m3\u001b[0m\u001b[1;33m,\u001b[0m\u001b[1;36m120\u001b[0m\u001b[1;33m,\u001b[0m\u001b[0mendpoint\u001b[0m \u001b[1;33m=\u001b[0m \u001b[1;32mFalse\u001b[0m\u001b[1;33m)\u001b[0m\u001b[1;33m\u001b[0m\u001b[1;33m\u001b[0m\u001b[0m\n\u001b[1;32m----> 2\u001b[1;33m \u001b[0my1\u001b[0m \u001b[1;33m=\u001b[0m \u001b[1;33m[\u001b[0m\u001b[0mC\u001b[0m\u001b[1;33m.\u001b[0m\u001b[0mauto_correlation\u001b[0m\u001b[1;33m(\u001b[0m\u001b[0mi\u001b[0m\u001b[1;33m)\u001b[0m \u001b[1;32mfor\u001b[0m \u001b[0mi\u001b[0m \u001b[1;32min\u001b[0m \u001b[0mx1\u001b[0m\u001b[1;33m]\u001b[0m\u001b[1;33m\u001b[0m\u001b[1;33m\u001b[0m\u001b[0m\n\u001b[0m\u001b[0;32m      3\u001b[0m \u001b[1;33m\u001b[0m\u001b[0m\n\u001b[0;32m      4\u001b[0m \u001b[0mplt\u001b[0m\u001b[1;33m.\u001b[0m\u001b[0mplot\u001b[0m\u001b[1;33m(\u001b[0m\u001b[0mx1\u001b[0m\u001b[1;33m[\u001b[0m\u001b[1;33m:\u001b[0m\u001b[1;36m10\u001b[0m\u001b[1;33m]\u001b[0m\u001b[1;33m,\u001b[0m\u001b[0my1\u001b[0m\u001b[1;33m[\u001b[0m\u001b[1;33m:\u001b[0m\u001b[1;36m10\u001b[0m\u001b[1;33m]\u001b[0m\u001b[1;33m,\u001b[0m\u001b[1;34m'o-'\u001b[0m\u001b[1;33m)\u001b[0m\u001b[1;33m\u001b[0m\u001b[1;33m\u001b[0m\u001b[0m\n\u001b[0;32m      5\u001b[0m \u001b[0mplt\u001b[0m\u001b[1;33m.\u001b[0m\u001b[0mshow\u001b[0m\u001b[1;33m(\u001b[0m\u001b[1;33m)\u001b[0m\u001b[1;33m\u001b[0m\u001b[1;33m\u001b[0m\u001b[0m\n",
      "\u001b[1;32m<ipython-input-1-69dbbb39274b>\u001b[0m in \u001b[0;36mauto_correlation\u001b[1;34m(self, tau)\u001b[0m\n\u001b[0;32m    176\u001b[0m                     \u001b[0mt0\u001b[0m \u001b[1;33m=\u001b[0m \u001b[0mt0\u001b[0m \u001b[1;33m+\u001b[0m \u001b[0mdt1\u001b[0m\u001b[1;33m\u001b[0m\u001b[1;33m\u001b[0m\u001b[0m\n\u001b[0;32m    177\u001b[0m                     \u001b[0mt1\u001b[0m \u001b[1;33m=\u001b[0m \u001b[0mt0\u001b[0m \u001b[1;33m+\u001b[0m \u001b[0mtau\u001b[0m\u001b[1;33m\u001b[0m\u001b[1;33m\u001b[0m\u001b[0m\n\u001b[1;32m--> 178\u001b[1;33m         \u001b[0mhelper\u001b[0m\u001b[1;33m(\u001b[0m\u001b[0mt_ls\u001b[0m\u001b[1;33m,\u001b[0m\u001b[0mv_ls\u001b[0m\u001b[1;33m,\u001b[0m\u001b[0mres_t\u001b[0m\u001b[1;33m,\u001b[0m\u001b[0mres_vv\u001b[0m\u001b[1;33m,\u001b[0m\u001b[0mt0\u001b[0m\u001b[1;33m)\u001b[0m\u001b[1;33m\u001b[0m\u001b[1;33m\u001b[0m\u001b[0m\n\u001b[0m\u001b[0;32m    179\u001b[0m \u001b[1;33m\u001b[0m\u001b[0m\n\u001b[0;32m    180\u001b[0m \u001b[1;33m\u001b[0m\u001b[0m\n",
      "\u001b[1;32m<ipython-input-1-69dbbb39274b>\u001b[0m in \u001b[0;36mhelper\u001b[1;34m(t_ls, v_ls, res_t, res_vv, t0)\u001b[0m\n\u001b[0;32m    164\u001b[0m             \u001b[0mt1\u001b[0m \u001b[1;33m=\u001b[0m \u001b[0mt0\u001b[0m \u001b[1;33m+\u001b[0m \u001b[0mtau\u001b[0m\u001b[1;33m\u001b[0m\u001b[1;33m\u001b[0m\u001b[0m\n\u001b[0;32m    165\u001b[0m             \u001b[1;32mwhile\u001b[0m \u001b[0mt1\u001b[0m \u001b[1;33m<\u001b[0m \u001b[0mt_final\u001b[0m\u001b[1;33m:\u001b[0m\u001b[1;33m\u001b[0m\u001b[1;33m\u001b[0m\u001b[0m\n\u001b[1;32m--> 166\u001b[1;33m                 \u001b[0midx_t0\u001b[0m \u001b[1;33m=\u001b[0m \u001b[0mbinary_search\u001b[0m\u001b[1;33m(\u001b[0m\u001b[0mt_ls\u001b[0m\u001b[1;33m,\u001b[0m \u001b[0mt0\u001b[0m\u001b[1;33m+\u001b[0m\u001b[0mepsilon\u001b[0m\u001b[1;33m,\u001b[0m \u001b[1;36m0\u001b[0m\u001b[1;33m,\u001b[0m \u001b[0mlen\u001b[0m\u001b[1;33m(\u001b[0m\u001b[0mt_ls\u001b[0m\u001b[1;33m)\u001b[0m\u001b[1;33m-\u001b[0m\u001b[1;36m1\u001b[0m\u001b[1;33m)\u001b[0m\u001b[1;33m\u001b[0m\u001b[1;33m\u001b[0m\u001b[0m\n\u001b[0m\u001b[0;32m    167\u001b[0m                 \u001b[0midx_t1\u001b[0m \u001b[1;33m=\u001b[0m \u001b[0mbinary_search\u001b[0m\u001b[1;33m(\u001b[0m\u001b[0mt_ls\u001b[0m\u001b[1;33m,\u001b[0m \u001b[0mt1\u001b[0m\u001b[1;33m+\u001b[0m\u001b[0mepsilon\u001b[0m\u001b[1;33m,\u001b[0m \u001b[1;36m0\u001b[0m\u001b[1;33m,\u001b[0m \u001b[0mlen\u001b[0m\u001b[1;33m(\u001b[0m\u001b[0mt_ls\u001b[0m\u001b[1;33m)\u001b[0m\u001b[1;33m-\u001b[0m\u001b[1;36m1\u001b[0m\u001b[1;33m)\u001b[0m\u001b[1;33m\u001b[0m\u001b[1;33m\u001b[0m\u001b[0m\n\u001b[0;32m    168\u001b[0m                 \u001b[0mres_t\u001b[0m\u001b[1;33m.\u001b[0m\u001b[0mappend\u001b[0m\u001b[1;33m(\u001b[0m\u001b[0mt0\u001b[0m\u001b[1;33m)\u001b[0m\u001b[1;33m\u001b[0m\u001b[1;33m\u001b[0m\u001b[0m\n",
      "\u001b[1;32m<ipython-input-1-69dbbb39274b>\u001b[0m in \u001b[0;36mbinary_search\u001b[1;34m(L, target, i, j)\u001b[0m\n\u001b[0;32m     11\u001b[0m         \u001b[1;32mreturn\u001b[0m \u001b[0mbinary_search\u001b[0m\u001b[1;33m(\u001b[0m\u001b[0mL\u001b[0m\u001b[1;33m,\u001b[0m\u001b[0mtarget\u001b[0m\u001b[1;33m,\u001b[0m\u001b[0mi\u001b[0m\u001b[1;33m,\u001b[0m\u001b[0mm\u001b[0m\u001b[1;33m)\u001b[0m\u001b[1;33m\u001b[0m\u001b[1;33m\u001b[0m\u001b[0m\n\u001b[0;32m     12\u001b[0m     \u001b[1;32melse\u001b[0m\u001b[1;33m:\u001b[0m\u001b[1;33m\u001b[0m\u001b[1;33m\u001b[0m\u001b[0m\n\u001b[1;32m---> 13\u001b[1;33m         \u001b[1;32mreturn\u001b[0m \u001b[0mbinary_search\u001b[0m\u001b[1;33m(\u001b[0m\u001b[0mL\u001b[0m\u001b[1;33m,\u001b[0m\u001b[0mtarget\u001b[0m\u001b[1;33m,\u001b[0m\u001b[0mm\u001b[0m\u001b[1;33m,\u001b[0m\u001b[0mj\u001b[0m\u001b[1;33m)\u001b[0m\u001b[1;33m\u001b[0m\u001b[1;33m\u001b[0m\u001b[0m\n\u001b[0m\u001b[0;32m     14\u001b[0m \u001b[1;33m\u001b[0m\u001b[0m\n\u001b[0;32m     15\u001b[0m \u001b[1;33m\u001b[0m\u001b[0m\n",
      "\u001b[1;32m<ipython-input-1-69dbbb39274b>\u001b[0m in \u001b[0;36mbinary_search\u001b[1;34m(L, target, i, j)\u001b[0m\n\u001b[0;32m      9\u001b[0m \u001b[1;33m\u001b[0m\u001b[0m\n\u001b[0;32m     10\u001b[0m     \u001b[1;32mif\u001b[0m \u001b[0mtarget\u001b[0m \u001b[1;33m<\u001b[0m \u001b[0mL\u001b[0m\u001b[1;33m[\u001b[0m\u001b[0mm\u001b[0m\u001b[1;33m]\u001b[0m\u001b[1;33m:\u001b[0m\u001b[1;33m\u001b[0m\u001b[1;33m\u001b[0m\u001b[0m\n\u001b[1;32m---> 11\u001b[1;33m         \u001b[1;32mreturn\u001b[0m \u001b[0mbinary_search\u001b[0m\u001b[1;33m(\u001b[0m\u001b[0mL\u001b[0m\u001b[1;33m,\u001b[0m\u001b[0mtarget\u001b[0m\u001b[1;33m,\u001b[0m\u001b[0mi\u001b[0m\u001b[1;33m,\u001b[0m\u001b[0mm\u001b[0m\u001b[1;33m)\u001b[0m\u001b[1;33m\u001b[0m\u001b[1;33m\u001b[0m\u001b[0m\n\u001b[0m\u001b[0;32m     12\u001b[0m     \u001b[1;32melse\u001b[0m\u001b[1;33m:\u001b[0m\u001b[1;33m\u001b[0m\u001b[1;33m\u001b[0m\u001b[0m\n\u001b[0;32m     13\u001b[0m         \u001b[1;32mreturn\u001b[0m \u001b[0mbinary_search\u001b[0m\u001b[1;33m(\u001b[0m\u001b[0mL\u001b[0m\u001b[1;33m,\u001b[0m\u001b[0mtarget\u001b[0m\u001b[1;33m,\u001b[0m\u001b[0mm\u001b[0m\u001b[1;33m,\u001b[0m\u001b[0mj\u001b[0m\u001b[1;33m)\u001b[0m\u001b[1;33m\u001b[0m\u001b[1;33m\u001b[0m\u001b[0m\n",
      "\u001b[1;32m<ipython-input-1-69dbbb39274b>\u001b[0m in \u001b[0;36mbinary_search\u001b[1;34m(L, target, i, j)\u001b[0m\n\u001b[0;32m     11\u001b[0m         \u001b[1;32mreturn\u001b[0m \u001b[0mbinary_search\u001b[0m\u001b[1;33m(\u001b[0m\u001b[0mL\u001b[0m\u001b[1;33m,\u001b[0m\u001b[0mtarget\u001b[0m\u001b[1;33m,\u001b[0m\u001b[0mi\u001b[0m\u001b[1;33m,\u001b[0m\u001b[0mm\u001b[0m\u001b[1;33m)\u001b[0m\u001b[1;33m\u001b[0m\u001b[1;33m\u001b[0m\u001b[0m\n\u001b[0;32m     12\u001b[0m     \u001b[1;32melse\u001b[0m\u001b[1;33m:\u001b[0m\u001b[1;33m\u001b[0m\u001b[1;33m\u001b[0m\u001b[0m\n\u001b[1;32m---> 13\u001b[1;33m         \u001b[1;32mreturn\u001b[0m \u001b[0mbinary_search\u001b[0m\u001b[1;33m(\u001b[0m\u001b[0mL\u001b[0m\u001b[1;33m,\u001b[0m\u001b[0mtarget\u001b[0m\u001b[1;33m,\u001b[0m\u001b[0mm\u001b[0m\u001b[1;33m,\u001b[0m\u001b[0mj\u001b[0m\u001b[1;33m)\u001b[0m\u001b[1;33m\u001b[0m\u001b[1;33m\u001b[0m\u001b[0m\n\u001b[0m\u001b[0;32m     14\u001b[0m \u001b[1;33m\u001b[0m\u001b[0m\n\u001b[0;32m     15\u001b[0m \u001b[1;33m\u001b[0m\u001b[0m\n",
      "\u001b[1;32m<ipython-input-1-69dbbb39274b>\u001b[0m in \u001b[0;36mbinary_search\u001b[1;34m(L, target, i, j)\u001b[0m\n\u001b[0;32m      9\u001b[0m \u001b[1;33m\u001b[0m\u001b[0m\n\u001b[0;32m     10\u001b[0m     \u001b[1;32mif\u001b[0m \u001b[0mtarget\u001b[0m \u001b[1;33m<\u001b[0m \u001b[0mL\u001b[0m\u001b[1;33m[\u001b[0m\u001b[0mm\u001b[0m\u001b[1;33m]\u001b[0m\u001b[1;33m:\u001b[0m\u001b[1;33m\u001b[0m\u001b[1;33m\u001b[0m\u001b[0m\n\u001b[1;32m---> 11\u001b[1;33m         \u001b[1;32mreturn\u001b[0m \u001b[0mbinary_search\u001b[0m\u001b[1;33m(\u001b[0m\u001b[0mL\u001b[0m\u001b[1;33m,\u001b[0m\u001b[0mtarget\u001b[0m\u001b[1;33m,\u001b[0m\u001b[0mi\u001b[0m\u001b[1;33m,\u001b[0m\u001b[0mm\u001b[0m\u001b[1;33m)\u001b[0m\u001b[1;33m\u001b[0m\u001b[1;33m\u001b[0m\u001b[0m\n\u001b[0m\u001b[0;32m     12\u001b[0m     \u001b[1;32melse\u001b[0m\u001b[1;33m:\u001b[0m\u001b[1;33m\u001b[0m\u001b[1;33m\u001b[0m\u001b[0m\n\u001b[0;32m     13\u001b[0m         \u001b[1;32mreturn\u001b[0m \u001b[0mbinary_search\u001b[0m\u001b[1;33m(\u001b[0m\u001b[0mL\u001b[0m\u001b[1;33m,\u001b[0m\u001b[0mtarget\u001b[0m\u001b[1;33m,\u001b[0m\u001b[0mm\u001b[0m\u001b[1;33m,\u001b[0m\u001b[0mj\u001b[0m\u001b[1;33m)\u001b[0m\u001b[1;33m\u001b[0m\u001b[1;33m\u001b[0m\u001b[0m\n",
      "\u001b[1;32m<ipython-input-1-69dbbb39274b>\u001b[0m in \u001b[0;36mbinary_search\u001b[1;34m(L, target, i, j)\u001b[0m\n\u001b[0;32m     11\u001b[0m         \u001b[1;32mreturn\u001b[0m \u001b[0mbinary_search\u001b[0m\u001b[1;33m(\u001b[0m\u001b[0mL\u001b[0m\u001b[1;33m,\u001b[0m\u001b[0mtarget\u001b[0m\u001b[1;33m,\u001b[0m\u001b[0mi\u001b[0m\u001b[1;33m,\u001b[0m\u001b[0mm\u001b[0m\u001b[1;33m)\u001b[0m\u001b[1;33m\u001b[0m\u001b[1;33m\u001b[0m\u001b[0m\n\u001b[0;32m     12\u001b[0m     \u001b[1;32melse\u001b[0m\u001b[1;33m:\u001b[0m\u001b[1;33m\u001b[0m\u001b[1;33m\u001b[0m\u001b[0m\n\u001b[1;32m---> 13\u001b[1;33m         \u001b[1;32mreturn\u001b[0m \u001b[0mbinary_search\u001b[0m\u001b[1;33m(\u001b[0m\u001b[0mL\u001b[0m\u001b[1;33m,\u001b[0m\u001b[0mtarget\u001b[0m\u001b[1;33m,\u001b[0m\u001b[0mm\u001b[0m\u001b[1;33m,\u001b[0m\u001b[0mj\u001b[0m\u001b[1;33m)\u001b[0m\u001b[1;33m\u001b[0m\u001b[1;33m\u001b[0m\u001b[0m\n\u001b[0m\u001b[0;32m     14\u001b[0m \u001b[1;33m\u001b[0m\u001b[0m\n\u001b[0;32m     15\u001b[0m \u001b[1;33m\u001b[0m\u001b[0m\n",
      "\u001b[1;32m<ipython-input-1-69dbbb39274b>\u001b[0m in \u001b[0;36mbinary_search\u001b[1;34m(L, target, i, j)\u001b[0m\n\u001b[0;32m     11\u001b[0m         \u001b[1;32mreturn\u001b[0m \u001b[0mbinary_search\u001b[0m\u001b[1;33m(\u001b[0m\u001b[0mL\u001b[0m\u001b[1;33m,\u001b[0m\u001b[0mtarget\u001b[0m\u001b[1;33m,\u001b[0m\u001b[0mi\u001b[0m\u001b[1;33m,\u001b[0m\u001b[0mm\u001b[0m\u001b[1;33m)\u001b[0m\u001b[1;33m\u001b[0m\u001b[1;33m\u001b[0m\u001b[0m\n\u001b[0;32m     12\u001b[0m     \u001b[1;32melse\u001b[0m\u001b[1;33m:\u001b[0m\u001b[1;33m\u001b[0m\u001b[1;33m\u001b[0m\u001b[0m\n\u001b[1;32m---> 13\u001b[1;33m         \u001b[1;32mreturn\u001b[0m \u001b[0mbinary_search\u001b[0m\u001b[1;33m(\u001b[0m\u001b[0mL\u001b[0m\u001b[1;33m,\u001b[0m\u001b[0mtarget\u001b[0m\u001b[1;33m,\u001b[0m\u001b[0mm\u001b[0m\u001b[1;33m,\u001b[0m\u001b[0mj\u001b[0m\u001b[1;33m)\u001b[0m\u001b[1;33m\u001b[0m\u001b[1;33m\u001b[0m\u001b[0m\n\u001b[0m\u001b[0;32m     14\u001b[0m \u001b[1;33m\u001b[0m\u001b[0m\n\u001b[0;32m     15\u001b[0m \u001b[1;33m\u001b[0m\u001b[0m\n",
      "\u001b[1;32m<ipython-input-1-69dbbb39274b>\u001b[0m in \u001b[0;36mbinary_search\u001b[1;34m(L, target, i, j)\u001b[0m\n\u001b[0;32m      9\u001b[0m \u001b[1;33m\u001b[0m\u001b[0m\n\u001b[0;32m     10\u001b[0m     \u001b[1;32mif\u001b[0m \u001b[0mtarget\u001b[0m \u001b[1;33m<\u001b[0m \u001b[0mL\u001b[0m\u001b[1;33m[\u001b[0m\u001b[0mm\u001b[0m\u001b[1;33m]\u001b[0m\u001b[1;33m:\u001b[0m\u001b[1;33m\u001b[0m\u001b[1;33m\u001b[0m\u001b[0m\n\u001b[1;32m---> 11\u001b[1;33m         \u001b[1;32mreturn\u001b[0m \u001b[0mbinary_search\u001b[0m\u001b[1;33m(\u001b[0m\u001b[0mL\u001b[0m\u001b[1;33m,\u001b[0m\u001b[0mtarget\u001b[0m\u001b[1;33m,\u001b[0m\u001b[0mi\u001b[0m\u001b[1;33m,\u001b[0m\u001b[0mm\u001b[0m\u001b[1;33m)\u001b[0m\u001b[1;33m\u001b[0m\u001b[1;33m\u001b[0m\u001b[0m\n\u001b[0m\u001b[0;32m     12\u001b[0m     \u001b[1;32melse\u001b[0m\u001b[1;33m:\u001b[0m\u001b[1;33m\u001b[0m\u001b[1;33m\u001b[0m\u001b[0m\n\u001b[0;32m     13\u001b[0m         \u001b[1;32mreturn\u001b[0m \u001b[0mbinary_search\u001b[0m\u001b[1;33m(\u001b[0m\u001b[0mL\u001b[0m\u001b[1;33m,\u001b[0m\u001b[0mtarget\u001b[0m\u001b[1;33m,\u001b[0m\u001b[0mm\u001b[0m\u001b[1;33m,\u001b[0m\u001b[0mj\u001b[0m\u001b[1;33m)\u001b[0m\u001b[1;33m\u001b[0m\u001b[1;33m\u001b[0m\u001b[0m\n",
      "\u001b[1;32m<ipython-input-1-69dbbb39274b>\u001b[0m in \u001b[0;36mbinary_search\u001b[1;34m(L, target, i, j)\u001b[0m\n\u001b[0;32m      1\u001b[0m \u001b[1;32mimport\u001b[0m \u001b[0mnumpy\u001b[0m \u001b[1;32mas\u001b[0m \u001b[0mnp\u001b[0m\u001b[1;33m\u001b[0m\u001b[1;33m\u001b[0m\u001b[0m\n\u001b[0;32m      2\u001b[0m \u001b[1;33m\u001b[0m\u001b[0m\n\u001b[1;32m----> 3\u001b[1;33m \u001b[1;32mdef\u001b[0m \u001b[0mbinary_search\u001b[0m\u001b[1;33m(\u001b[0m\u001b[0mL\u001b[0m\u001b[1;33m,\u001b[0m\u001b[0mtarget\u001b[0m\u001b[1;33m,\u001b[0m\u001b[0mi\u001b[0m\u001b[1;33m,\u001b[0m\u001b[0mj\u001b[0m\u001b[1;33m)\u001b[0m\u001b[1;33m:\u001b[0m\u001b[1;33m\u001b[0m\u001b[1;33m\u001b[0m\u001b[0m\n\u001b[0m\u001b[0;32m      4\u001b[0m \u001b[1;33m\u001b[0m\u001b[0m\n\u001b[0;32m      5\u001b[0m     \u001b[1;32mif\u001b[0m \u001b[0mj\u001b[0m \u001b[1;33m==\u001b[0m \u001b[1;33m(\u001b[0m\u001b[0mi\u001b[0m\u001b[1;33m+\u001b[0m\u001b[1;36m1\u001b[0m\u001b[1;33m)\u001b[0m \u001b[1;32mor\u001b[0m \u001b[0mj\u001b[0m \u001b[1;33m==\u001b[0m \u001b[0mi\u001b[0m\u001b[1;33m:\u001b[0m\u001b[1;33m\u001b[0m\u001b[1;33m\u001b[0m\u001b[0m\n",
      "\u001b[1;31mKeyboardInterrupt\u001b[0m: "
     ]
    }
   ],
   "source": [
    "x1 = np.linspace(0,3,120,endpoint = False)\n",
    "y1 = [C.auto_correlation(i) for i in x1]\n",
    "\n",
    "plt.plot(x1[:10],y1[:10],'o-')\n",
    "plt.show()"
   ]
  },
  {
   "cell_type": "code",
   "execution_count": 83,
   "metadata": {},
   "outputs": [
    {
     "ename": "NameError",
     "evalue": "name 'yy' is not defined",
     "output_type": "error",
     "traceback": [
      "\u001b[1;31m---------------------------------------------------------------------------\u001b[0m",
      "\u001b[1;31mNameError\u001b[0m                                 Traceback (most recent call last)",
      "\u001b[1;32m<ipython-input-83-442bc3471c4f>\u001b[0m in \u001b[0;36m<module>\u001b[1;34m\u001b[0m\n\u001b[0;32m      3\u001b[0m \u001b[1;31m#yy = y + y1\u001b[0m\u001b[1;33m\u001b[0m\u001b[1;33m\u001b[0m\u001b[1;33m\u001b[0m\u001b[0m\n\u001b[0;32m      4\u001b[0m \u001b[1;33m\u001b[0m\u001b[0m\n\u001b[1;32m----> 5\u001b[1;33m \u001b[0mprint\u001b[0m\u001b[1;33m(\u001b[0m\u001b[0mnp\u001b[0m\u001b[1;33m.\u001b[0m\u001b[0marray\u001b[0m\u001b[1;33m(\u001b[0m\u001b[0myy\u001b[0m\u001b[1;33m)\u001b[0m\u001b[1;33m.\u001b[0m\u001b[0mtranspose\u001b[0m\u001b[1;33m(\u001b[0m\u001b[1;33m)\u001b[0m\u001b[1;33m[\u001b[0m\u001b[1;36m0\u001b[0m\u001b[1;33m]\u001b[0m\u001b[1;33m)\u001b[0m\u001b[1;33m\u001b[0m\u001b[1;33m\u001b[0m\u001b[0m\n\u001b[0m\u001b[0;32m      6\u001b[0m \u001b[0mplt\u001b[0m\u001b[1;33m.\u001b[0m\u001b[0mplot\u001b[0m\u001b[1;33m(\u001b[0m\u001b[0mxx\u001b[0m\u001b[1;33m,\u001b[0m\u001b[0myy\u001b[0m\u001b[1;33m,\u001b[0m\u001b[1;34m'-o'\u001b[0m\u001b[1;33m)\u001b[0m\u001b[1;33m\u001b[0m\u001b[1;33m\u001b[0m\u001b[0m\n",
      "\u001b[1;31mNameError\u001b[0m: name 'yy' is not defined"
     ]
    }
   ],
   "source": [
    "print(np.array(y1).transpose()[0])\n",
    "xx = np.append(x, x1)\n",
    "yy = y + y1\n",
    "\n",
    "print(np.array(yy).transpose()[0])\n",
    "plt.plot(xx,yy,'-o')"
   ]
  },
  {
   "cell_type": "code",
   "execution_count": 63,
   "metadata": {},
   "outputs": [
    {
     "data": {
      "text/plain": [
       "[<matplotlib.lines.Line2D at 0x281d88a3160>]"
      ]
     },
     "execution_count": 63,
     "metadata": {},
     "output_type": "execute_result"
    },
    {
     "data": {
      "image/png": "[encoded data removed]",
      "text/plain": [
       "<Figure size 432x288 with 1 Axes>"
      ]
     },
     "metadata": {
      "needs_background": "light"
     },
     "output_type": "display_data"
    }
   ],
   "source": [
    "#plt.plot(np.exp(2j * np.pi * np.arange(8) / 8),'o-')\n",
    "#plt.plot(np.exp(2j * np.pi * (np.arange(8)+0.5) / 8),'o-')\n",
    "#yy0 = np.array(y1[:]).transpose()[0]\n",
    "#yy1 = np.array(y1[:]).transpose()[1]\n",
    "plt.plot(np.real(np.fft.fft(yy0))[:],'o-')\n",
    "#plt.plot(x1,yy0[0:120],'o-')\n",
    "#print(sum(yy))\n",
    "\n",
    "#plt.plot(np.real(np.fft.fft(np.exp(2j * np.pi * np.arange(8) / 8))),'o-')\n",
    "#plt.plot(np.real(np.fft.fft(np.exp(2j * np.pi * (np.arange(8)+0.5) / 8))),'o-')\n",
    "#plt.plot(np.imag(np.fft.fft(np.exp(2j * np.pi * (np.arange(8)+0.5) / 8))),'o-')"
   ]
  },
  {
   "cell_type": "code",
   "execution_count": 32,
   "metadata": {},
   "outputs": [
    {
     "name": "stdout",
     "output_type": "stream",
     "text": [
      "2.2528676448460967\n",
      "0.21131436239320545\n"
     ]
    }
   ],
   "source": [
    "print(sum(Eball))\n",
    "print(2*sum(C.auto_correlation(0.)))"
   ]
  },
  {
   "cell_type": "code",
   "execution_count": 81,
   "metadata": {},
   "outputs": [
    {
     "name": "stdout",
     "output_type": "stream",
     "text": [
      "[-0.09283824  0.10786281]\n",
      "2.4641820072412286\n"
     ]
    }
   ],
   "source": [
    "print(C.get_container_velocity())\n",
    "\n",
    "\n",
    "s = 2* np.inner(C.get_container_velocity(),C.get_container_velocity())\n",
    "for i in C.get_balls():\n",
    "    s += np.inner(i.get_velocity()+C.get_container_velocity(),i.get_velocity()+C.get_container_velocity())\n",
    "print (s)\n",
    "[]"
   ]
  }
 ],
 "metadata": {
  "kernelspec": {
   "display_name": "Python 3",
   "language": "python",
   "name": "python3"
  },
  "language_info": {
   "codemirror_mode": {
    "name": "ipython",
    "version": 3
   },
   "file_extension": ".py",
   "mimetype": "text/x-python",
   "name": "python",
   "nbconvert_exporter": "python",
   "pygments_lexer": "ipython3",
   "version": "3.6.8"
  }
 },
 "nbformat": 4,
 "nbformat_minor": 2
}
